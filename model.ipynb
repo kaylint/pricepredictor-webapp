{
 "metadata": {
  "language_info": {
   "codemirror_mode": {
    "name": "ipython",
    "version": 3
   },
   "file_extension": ".py",
   "mimetype": "text/x-python",
   "name": "python",
   "nbconvert_exporter": "python",
   "pygments_lexer": "ipython3",
   "version": "3.8.5"
  },
  "orig_nbformat": 2,
  "kernelspec": {
   "name": "python385jvsc74a57bd05a320894b34090ecca04137520f6fe2ac50253f9dcf4b51d9c389ebaa9d4cf20",
   "display_name": "Python 3.8.5 64-bit ('base': conda)"
  }
 },
 "nbformat": 4,
 "nbformat_minor": 2,
 "cells": [
  {
   "cell_type": "code",
   "execution_count": 102,
   "metadata": {},
   "outputs": [],
   "source": [
    "#imports\n",
    "import numpy as np\n",
    "import pandas as pd\n",
    "import matplotlib.pyplot as plt\n",
    "import seaborn as sns"
   ]
  },
  {
   "cell_type": "code",
   "execution_count": 103,
   "metadata": {},
   "outputs": [],
   "source": [
    "data = pd.read_csv('../datasets/train_with_dummies.csv')"
   ]
  },
  {
   "cell_type": "code",
   "execution_count": 104,
   "metadata": {},
   "outputs": [
    {
     "output_type": "execute_result",
     "data": {
      "text/plain": [
       "(2051, 199)"
      ]
     },
     "metadata": {},
     "execution_count": 104
    }
   ],
   "source": [
    "data.shape"
   ]
  },
  {
   "cell_type": "code",
   "execution_count": 105,
   "metadata": {},
   "outputs": [],
   "source": [
    "#from previous modelling \n",
    "#these 5 features as the most important - they seem to impact the price the most\n",
    "\n",
    "#Total SF - Which is 'Gr Liv Area' + 'Total Bsmt SF'\n",
    "#Exter Qual\n",
    "#Kitchen Qual\n",
    "#Year Built\n",
    "#Overall Qual"
   ]
  },
  {
   "cell_type": "code",
   "execution_count": 106,
   "metadata": {},
   "outputs": [],
   "source": [
    "#built a simplified model based on these 5 items for the presentation"
   ]
  },
  {
   "cell_type": "code",
   "execution_count": 107,
   "metadata": {},
   "outputs": [],
   "source": [
    "data['Total SF'] = data['Gr Liv Area'] + data['Total Bsmt SF']"
   ]
  },
  {
   "cell_type": "code",
   "execution_count": 108,
   "metadata": {},
   "outputs": [],
   "source": [
    "df = pd.DataFrame({\n",
    "    'Total SF': data['Total SF'],\n",
    "    'Exter Qual': data['Exter Qual'],\n",
    "    'Kitchen Qual': data['Kitchen Qual'],\n",
    "    'Year Built': data['Year Built'],\n",
    "    'Overall Qual': data['Overall Qual'],\n",
    "    'SalePrice': data['SalePrice']})"
   ]
  },
  {
   "cell_type": "code",
   "execution_count": 109,
   "metadata": {},
   "outputs": [
    {
     "output_type": "execute_result",
     "data": {
      "text/plain": [
       "   Total SF  Exter Qual  Kitchen Qual  Year Built  Overall Qual  SalePrice\n",
       "0    2204.0           2             2        1976             6     130500\n",
       "1    3035.0           2             2        1996             7     220000\n",
       "2    2114.0           3             2        1953             5     109000\n",
       "3    1828.0           3             3        2006             5     174000\n",
       "4    2121.0           3             3        1900             6     138500"
      ],
      "text/html": "<div>\n<style scoped>\n    .dataframe tbody tr th:only-of-type {\n        vertical-align: middle;\n    }\n\n    .dataframe tbody tr th {\n        vertical-align: top;\n    }\n\n    .dataframe thead th {\n        text-align: right;\n    }\n</style>\n<table border=\"1\" class=\"dataframe\">\n  <thead>\n    <tr style=\"text-align: right;\">\n      <th></th>\n      <th>Total SF</th>\n      <th>Exter Qual</th>\n      <th>Kitchen Qual</th>\n      <th>Year Built</th>\n      <th>Overall Qual</th>\n      <th>SalePrice</th>\n    </tr>\n  </thead>\n  <tbody>\n    <tr>\n      <th>0</th>\n      <td>2204.0</td>\n      <td>2</td>\n      <td>2</td>\n      <td>1976</td>\n      <td>6</td>\n      <td>130500</td>\n    </tr>\n    <tr>\n      <th>1</th>\n      <td>3035.0</td>\n      <td>2</td>\n      <td>2</td>\n      <td>1996</td>\n      <td>7</td>\n      <td>220000</td>\n    </tr>\n    <tr>\n      <th>2</th>\n      <td>2114.0</td>\n      <td>3</td>\n      <td>2</td>\n      <td>1953</td>\n      <td>5</td>\n      <td>109000</td>\n    </tr>\n    <tr>\n      <th>3</th>\n      <td>1828.0</td>\n      <td>3</td>\n      <td>3</td>\n      <td>2006</td>\n      <td>5</td>\n      <td>174000</td>\n    </tr>\n    <tr>\n      <th>4</th>\n      <td>2121.0</td>\n      <td>3</td>\n      <td>3</td>\n      <td>1900</td>\n      <td>6</td>\n      <td>138500</td>\n    </tr>\n  </tbody>\n</table>\n</div>"
     },
     "metadata": {},
     "execution_count": 109
    }
   ],
   "source": [
    "df.head()"
   ]
  },
  {
   "cell_type": "code",
   "execution_count": 110,
   "metadata": {},
   "outputs": [],
   "source": [
    "#create X and y values\n",
    "X = df.drop('SalePrice',axis=1)\n",
    "y = df['SalePrice']"
   ]
  },
  {
   "cell_type": "code",
   "execution_count": 111,
   "metadata": {},
   "outputs": [],
   "source": [
    "#create poly features, train test split then scale\n",
    "from sklearn.preprocessing import StandardScaler,PolynomialFeatures\n",
    "poly_convert = PolynomialFeatures(include_bias=False)\n",
    "X_poly = poly_convert.fit_transform(X)"
   ]
  },
  {
   "cell_type": "code",
   "execution_count": 112,
   "metadata": {},
   "outputs": [],
   "source": [
    "from sklearn.model_selection import train_test_split\n",
    "X_train, X_test, y_train, y_test = train_test_split(X_poly,y,test_size=0.3)"
   ]
  },
  {
   "cell_type": "code",
   "execution_count": 113,
   "metadata": {},
   "outputs": [],
   "source": [
    "from sklearn.model_selection import GridSearchCV\n",
    "from sklearn.linear_model import ElasticNet\n",
    "from sklearn.pipeline import Pipeline\n",
    "from sklearn.preprocessing import StandardScaler"
   ]
  },
  {
   "cell_type": "code",
   "execution_count": 114,
   "metadata": {},
   "outputs": [],
   "source": [
    "pipe = Pipeline([('ss',StandardScaler()),('en',ElasticNet())])"
   ]
  },
  {
   "cell_type": "code",
   "execution_count": 115,
   "metadata": {},
   "outputs": [],
   "source": [
    "pipe_params = {'en__l1_ratio':[.1, .7, 1],\n",
    "              'en__selection':['random'], #random so it will run faster\n",
    "              'en__warm_start':[True], #warm start to run faster\n",
    "              'en__alpha':np.logspace(-6, 6, 5),\n",
    "              'en__max_iter': [10000000]}"
   ]
  },
  {
   "cell_type": "code",
   "execution_count": 116,
   "metadata": {},
   "outputs": [],
   "source": [
    "model = GridSearchCV(pipe,pipe_params,cv=5,verbose=1,scoring='neg_mean_squared_error')\n",
    "#set scoring to neg mean squared error as this is what we are trying to minimize"
   ]
  },
  {
   "cell_type": "code",
   "execution_count": 117,
   "metadata": {},
   "outputs": [
    {
     "output_type": "stream",
     "name": "stdout",
     "text": [
      "Fitting 5 folds for each of 15 candidates, totalling 75 fits\n",
      "[Parallel(n_jobs=1)]: Using backend SequentialBackend with 1 concurrent workers.\n",
      "[Parallel(n_jobs=1)]: Done  75 out of  75 | elapsed:  6.3min finished\n"
     ]
    },
    {
     "output_type": "execute_result",
     "data": {
      "text/plain": [
       "GridSearchCV(cv=5,\n",
       "             estimator=Pipeline(steps=[('ss', StandardScaler()),\n",
       "                                       ('en', ElasticNet())]),\n",
       "             param_grid={'en__alpha': array([1.e-06, 1.e-03, 1.e+00, 1.e+03, 1.e+06]),\n",
       "                         'en__l1_ratio': [0.1, 0.7, 1],\n",
       "                         'en__max_iter': [10000000],\n",
       "                         'en__selection': ['random'],\n",
       "                         'en__warm_start': [True]},\n",
       "             scoring='neg_mean_squared_error', verbose=1)"
      ]
     },
     "metadata": {},
     "execution_count": 117
    }
   ],
   "source": [
    "model.fit(X_train,y_train)\n",
    "#train model using only 5 base features"
   ]
  },
  {
   "cell_type": "code",
   "execution_count": 118,
   "metadata": {},
   "outputs": [
    {
     "output_type": "execute_result",
     "data": {
      "text/plain": [
       "{'en__alpha': 0.001,\n",
       " 'en__l1_ratio': 0.7,\n",
       " 'en__max_iter': 10000000,\n",
       " 'en__selection': 'random',\n",
       " 'en__warm_start': True}"
      ]
     },
     "metadata": {},
     "execution_count": 118
    }
   ],
   "source": [
    "model.best_params_"
   ]
  },
  {
   "cell_type": "code",
   "execution_count": 119,
   "metadata": {},
   "outputs": [],
   "source": [
    "#save model \n",
    "from joblib import dump,load"
   ]
  },
  {
   "cell_type": "code",
   "execution_count": 120,
   "metadata": {},
   "outputs": [
    {
     "output_type": "execute_result",
     "data": {
      "text/plain": [
       "['../models/test_model.joblib']"
      ]
     },
     "metadata": {},
     "execution_count": 120
    }
   ],
   "source": [
    "dump(model,'../models/test_model.joblib')"
   ]
  },
  {
   "cell_type": "code",
   "execution_count": 121,
   "metadata": {},
   "outputs": [],
   "source": [
    "#Get predictions\n",
    "train_predictions = model.predict(X_train)\n",
    "test_predictions = model.predict(X_test)\n",
    "predictions = model.predict(X_poly)"
   ]
  },
  {
   "cell_type": "code",
   "execution_count": 122,
   "metadata": {},
   "outputs": [],
   "source": [
    "from sklearn.metrics import mean_squared_error"
   ]
  },
  {
   "cell_type": "code",
   "execution_count": 123,
   "metadata": {},
   "outputs": [
    {
     "output_type": "execute_result",
     "data": {
      "text/plain": [
       "array([145291.10837599, 109812.439518  , 126116.91175205, 214662.56303444,\n",
       "        99620.44644092])"
      ]
     },
     "metadata": {},
     "execution_count": 123
    }
   ],
   "source": [
    "train_predictions[:5]"
   ]
  },
  {
   "cell_type": "code",
   "execution_count": 124,
   "metadata": {},
   "outputs": [
    {
     "output_type": "execute_result",
     "data": {
      "text/plain": [
       "29079.07895916296"
      ]
     },
     "metadata": {},
     "execution_count": 124
    }
   ],
   "source": [
    "#RSME score: train set\n",
    "np.sqrt(mean_squared_error(y_train,train_predictions))"
   ]
  },
  {
   "cell_type": "code",
   "execution_count": 125,
   "metadata": {},
   "outputs": [
    {
     "output_type": "execute_result",
     "data": {
      "text/plain": [
       "28671.817959312804"
      ]
     },
     "metadata": {},
     "execution_count": 125
    }
   ],
   "source": [
    "#RSME score: test set\n",
    "np.sqrt(mean_squared_error(y_test,test_predictions))"
   ]
  },
  {
   "cell_type": "code",
   "execution_count": 126,
   "metadata": {},
   "outputs": [],
   "source": [
    "#RSME SCORE is actually quite good even with just 5 features\n",
    "#train this model with full train data set and same hyperparameters"
   ]
  },
  {
   "cell_type": "code",
   "execution_count": 127,
   "metadata": {},
   "outputs": [],
   "source": [
    "#create another instance of Grid Search\n",
    "full_model = GridSearchCV(pipe,pipe_params,cv=5,verbose=1,scoring='neg_mean_squared_error')"
   ]
  },
  {
   "cell_type": "code",
   "execution_count": 129,
   "metadata": {},
   "outputs": [
    {
     "output_type": "stream",
     "name": "stdout",
     "text": [
      "Fitting 5 folds for each of 15 candidates, totalling 75 fits\n",
      "[Parallel(n_jobs=1)]: Using backend SequentialBackend with 1 concurrent workers.\n",
      "[Parallel(n_jobs=1)]: Done  75 out of  75 | elapsed:  8.2min finished\n"
     ]
    },
    {
     "output_type": "execute_result",
     "data": {
      "text/plain": [
       "GridSearchCV(cv=5,\n",
       "             estimator=Pipeline(steps=[('ss', StandardScaler()),\n",
       "                                       ('en', ElasticNet())]),\n",
       "             param_grid={'en__alpha': array([1.e-06, 1.e-03, 1.e+00, 1.e+03, 1.e+06]),\n",
       "                         'en__l1_ratio': [0.1, 0.7, 1],\n",
       "                         'en__max_iter': [10000000],\n",
       "                         'en__selection': ['random'],\n",
       "                         'en__warm_start': [True]},\n",
       "             scoring='neg_mean_squared_error', verbose=1)"
      ]
     },
     "metadata": {},
     "execution_count": 129
    }
   ],
   "source": [
    "#train model on full dataset\n",
    "full_model.fit(X_poly,y)"
   ]
  },
  {
   "cell_type": "code",
   "execution_count": 130,
   "metadata": {},
   "outputs": [
    {
     "output_type": "execute_result",
     "data": {
      "text/plain": [
       "['../models/presentation_model.joblib']"
      ]
     },
     "metadata": {},
     "execution_count": 130
    }
   ],
   "source": [
    "#save model for application use\n",
    "dump(model,'../models/presentation_model.joblib')"
   ]
  },
  {
   "cell_type": "code",
   "execution_count": 131,
   "metadata": {},
   "outputs": [],
   "source": [
    "#get predictions for full model\n",
    "predictions = full_model.predict(X_poly)"
   ]
  },
  {
   "cell_type": "code",
   "execution_count": 132,
   "metadata": {},
   "outputs": [
    {
     "output_type": "execute_result",
     "data": {
      "text/plain": [
       "28842.6622966087"
      ]
     },
     "metadata": {},
     "execution_count": 132
    }
   ],
   "source": [
    "#RSME score:full model\n",
    "np.sqrt(mean_squared_error(y,predictions))\n",
    "\n",
    "#RSME seems reasonable\n",
    "#We will use this model with only 5 base features for our presentation application"
   ]
  },
  {
   "cell_type": "code",
   "execution_count": null,
   "metadata": {},
   "outputs": [],
   "source": [
    "#code and test logic for application"
   ]
  },
  {
   "cell_type": "code",
   "execution_count": 133,
   "metadata": {},
   "outputs": [],
   "source": [
    "#load model from file\n",
    "model = load('../models/presentation_model.joblib')"
   ]
  },
  {
   "cell_type": "code",
   "execution_count": 134,
   "metadata": {},
   "outputs": [
    {
     "output_type": "execute_result",
     "data": {
      "text/plain": [
       "pandas.core.frame.DataFrame"
      ]
     },
     "metadata": {},
     "execution_count": 134
    }
   ],
   "source": [
    "type(X)"
   ]
  },
  {
   "cell_type": "code",
   "execution_count": 172,
   "metadata": {},
   "outputs": [],
   "source": [
    "#this will be the result from the html form\n",
    "#test with dummy user input\n",
    "d = {'tot-sf': '2000', 'ext-qual': '2','kit-qual': '6','year': '1998','over-qual': '2'}"
   ]
  },
  {
   "cell_type": "code",
   "execution_count": 173,
   "metadata": {},
   "outputs": [
    {
     "output_type": "execute_result",
     "data": {
      "text/plain": [
       "  tot-sf ext-qual kit-qual  year over-qual\n",
       "0   2000        2        6  1998         2"
      ],
      "text/html": "<div>\n<style scoped>\n    .dataframe tbody tr th:only-of-type {\n        vertical-align: middle;\n    }\n\n    .dataframe tbody tr th {\n        vertical-align: top;\n    }\n\n    .dataframe thead th {\n        text-align: right;\n    }\n</style>\n<table border=\"1\" class=\"dataframe\">\n  <thead>\n    <tr style=\"text-align: right;\">\n      <th></th>\n      <th>tot-sf</th>\n      <th>ext-qual</th>\n      <th>kit-qual</th>\n      <th>year</th>\n      <th>over-qual</th>\n    </tr>\n  </thead>\n  <tbody>\n    <tr>\n      <th>0</th>\n      <td>2000</td>\n      <td>2</td>\n      <td>6</td>\n      <td>1998</td>\n      <td>2</td>\n    </tr>\n  </tbody>\n</table>\n</div>"
     },
     "metadata": {},
     "execution_count": 173
    }
   ],
   "source": [
    "#turn form result into a dataframe\n",
    "df = pd.DataFrame.from_dict([d])\n",
    "\n",
    "df"
   ]
  },
  {
   "cell_type": "code",
   "execution_count": 174,
   "metadata": {},
   "outputs": [],
   "source": [
    "#convert the 5 features the user input into poly features for a better model\n",
    "from sklearn.preprocessing import StandardScaler,PolynomialFeatures\n",
    "poly_convert = PolynomialFeatures(include_bias=False)\n",
    "poly = poly_convert.fit_transform(df)"
   ]
  },
  {
   "cell_type": "code",
   "execution_count": 175,
   "metadata": {},
   "outputs": [],
   "source": [
    "#use model to predict price from 5 base features (user input)\n",
    "predictions = model.predict(poly)"
   ]
  },
  {
   "cell_type": "code",
   "execution_count": 176,
   "metadata": {},
   "outputs": [
    {
     "output_type": "execute_result",
     "data": {
      "text/plain": [
       "array([123434.63454525])"
      ]
     },
     "metadata": {},
     "execution_count": 176
    }
   ],
   "source": [
    "predictions"
   ]
  },
  {
   "cell_type": "code",
   "execution_count": 179,
   "metadata": {},
   "outputs": [
    {
     "output_type": "execute_result",
     "data": {
      "text/plain": [
       "123434.63"
      ]
     },
     "metadata": {},
     "execution_count": 179
    }
   ],
   "source": [
    "#final result to show on website\n",
    "np.round(predictions[0],2)"
   ]
  },
  {
   "cell_type": "code",
   "execution_count": null,
   "metadata": {},
   "outputs": [],
   "source": [
    "#end\n",
    "#website logic coded\n",
    "#transfer into application.py file"
   ]
  }
 ]
}